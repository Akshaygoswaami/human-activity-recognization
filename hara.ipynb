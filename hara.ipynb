{
 "cells": [
  {
   "cell_type": "code",
   "execution_count": 1,
   "metadata": {},
   "outputs": [],
   "source": [
    "# Importing Libraries"
   ]
  },
  {
   "cell_type": "code",
   "execution_count": 2,
   "metadata": {},
   "outputs": [],
   "source": [
    "import pandas as pd\n",
    "import numpy as np"
   ]
  },
  {
   "cell_type": "code",
   "execution_count": 3,
   "metadata": {},
   "outputs": [],
   "source": [
    "# Activities are the class labels\n",
    "# It is a 6 class classification\n",
    "ACTIVITIES = {\n",
    "    0: 'WALKING',\n",
    "    1: 'WALKING_UPSTAIRS',\n",
    "    2: 'WALKING_DOWNSTAIRS',\n",
    "    3: 'SITTING',\n",
    "    4: 'STANDING',\n",
    "    5: 'LAYING',\n",
    "}\n",
    "\n",
    "# Utility function to print the confusion matrix\n",
    "def confusion_matrix(Y_true, Y_pred):\n",
    "    Y_true = pd.Series([ACTIVITIES[y] for y in np.argmax(Y_true, axis=1)])\n",
    "    Y_pred = pd.Series([ACTIVITIES[y] for y in np.argmax(Y_pred, axis=1)])\n",
    "\n",
    "    return pd.crosstab(Y_true, Y_pred, rownames=['True'], colnames=['Pred'])"
   ]
  },
  {
   "cell_type": "markdown",
   "metadata": {},
   "source": [
    "### Data"
   ]
  },
  {
   "cell_type": "code",
   "execution_count": 4,
   "metadata": {},
   "outputs": [],
   "source": [
    "# Data directory\n",
    "DATADIR = 'UCI_HAR_Dataset'"
   ]
  },
  {
   "cell_type": "code",
   "execution_count": 5,
   "metadata": {},
   "outputs": [],
   "source": [
    "# Raw data signals\n",
    "# Signals are from Accelerometer and Gyroscope\n",
    "# The signals are in x,y,z directions\n",
    "# Sensor signals are filtered to have only body acceleration\n",
    "# excluding the acceleration due to gravity\n",
    "# Triaxial acceleration from the accelerometer is total acceleration\n",
    "SIGNALS = [\n",
    "    \"body_acc_x\",\n",
    "    \"body_acc_y\",\n",
    "    \"body_acc_z\",\n",
    "    \"body_gyro_x\",\n",
    "    \"body_gyro_y\",\n",
    "    \"body_gyro_z\",\n",
    "    \"total_acc_x\",\n",
    "    \"total_acc_y\",\n",
    "    \"total_acc_z\"\n",
    "]"
   ]
  },
  {
   "cell_type": "code",
   "execution_count": 6,
   "metadata": {},
   "outputs": [],
   "source": [
    "# Utility function to read the data from csv file\n",
    "def _read_csv(filename):\n",
    "    return pd.read_csv(filename, delim_whitespace=True, header=None)\n",
    "\n",
    "# Utility function to load the load\n",
    "def load_signals(subset):\n",
    "    signals_data = []\n",
    "\n",
    "    for signal in SIGNALS:\n",
    "        filename = f'UCI_HAR_Dataset/{subset}/Inertial Signals/{signal}_{subset}.txt'\n",
    "        signals_data.append(\n",
    "            _read_csv(filename).as_matrix()\n",
    "        ) \n",
    "\n",
    "    # Transpose is used to change the dimensionality of the output,\n",
    "    # aggregating the signals by combination of sample/timestep.\n",
    "    # Resultant shape is (7352 train/2947 test samples, 128 timesteps, 9 signals)\n",
    "    return np.transpose(signals_data, (1, 2, 0))"
   ]
  },
  {
   "cell_type": "code",
   "execution_count": 7,
   "metadata": {},
   "outputs": [],
   "source": [
    "\n",
    "def load_y(subset):\n",
    "    \"\"\"\n",
    "    The objective that we are trying to predict is a integer, from 1 to 6,\n",
    "    that represents a human activity. We return a binary representation of \n",
    "    every sample objective as a 6 bits vector using One Hot Encoding\n",
    "    (https://pandas.pydata.org/pandas-docs/stable/generated/pandas.get_dummies.html)\n",
    "    \"\"\"\n",
    "    filename = f'UCI_HAR_Dataset/{subset}/y_{subset}.txt'\n",
    "    y = _read_csv(filename)[0]\n",
    "\n",
    "    return pd.get_dummies(y).as_matrix()"
   ]
  },
  {
   "cell_type": "code",
   "execution_count": 8,
   "metadata": {},
   "outputs": [],
   "source": [
    "def load_data():\n",
    "    \"\"\"\n",
    "    Obtain the dataset from multiple files.\n",
    "    Returns: X_train, X_test, y_train, y_test\n",
    "    \"\"\"\n",
    "    X_train, X_test = load_signals('train'), load_signals('test')\n",
    "    y_train, y_test = load_y('train'), load_y('test')\n",
    "\n",
    "    return X_train, X_test, y_train, y_test"
   ]
  },
  {
   "cell_type": "code",
   "execution_count": 9,
   "metadata": {},
   "outputs": [],
   "source": [
    "# Importing tensorflow\n",
    "np.random.seed(42)\n",
    "import tensorflow as tf\n",
    "tf.set_random_seed(42)"
   ]
  },
  {
   "cell_type": "code",
   "execution_count": 10,
   "metadata": {},
   "outputs": [],
   "source": [
    "# Configuring a session\n",
    "session_conf = tf.ConfigProto(\n",
    "    intra_op_parallelism_threads=1,\n",
    "    inter_op_parallelism_threads=1\n",
    ")"
   ]
  },
  {
   "cell_type": "code",
   "execution_count": 11,
   "metadata": {},
   "outputs": [
    {
     "name": "stderr",
     "output_type": "stream",
     "text": [
      "Using TensorFlow backend.\n"
     ]
    }
   ],
   "source": [
    "# Import Keras\n",
    "from keras import backend as K\n",
    "sess = tf.Session(graph=tf.get_default_graph(), config=session_conf)\n",
    "K.set_session(sess)"
   ]
  },
  {
   "cell_type": "code",
   "execution_count": 12,
   "metadata": {},
   "outputs": [],
   "source": [
    "# Importing libraries\n",
    "from keras.models import Sequential\n",
    "from keras.layers import LSTM\n",
    "from keras.layers.core import Dense, Dropout"
   ]
  },
  {
   "cell_type": "code",
   "execution_count": 13,
   "metadata": {},
   "outputs": [],
   "source": [
    "# Initializing parameters\n",
    "epochs = 30\n",
    "batch_size = 16"
   ]
  },
  {
   "cell_type": "code",
   "execution_count": 14,
   "metadata": {},
   "outputs": [],
   "source": [
    "# Utility function to count the number of classes\n",
    "def _count_classes(y):\n",
    "    return len(set([tuple(category) for category in y]))"
   ]
  },
  {
   "cell_type": "code",
   "execution_count": 15,
   "metadata": {},
   "outputs": [
    {
     "name": "stderr",
     "output_type": "stream",
     "text": [
      "C:\\Users\\aksha\\Anaconda3\\lib\\site-packages\\ipykernel_launcher.py:12: FutureWarning: Method .as_matrix will be removed in a future version. Use .values instead.\n",
      "  if sys.path[0] == '':\n"
     ]
    }
   ],
   "source": [
    "# Loading the train and test data\n",
    "X_train, X_test, Y_train, Y_test = load_data()"
   ]
  },
  {
   "cell_type": "code",
   "execution_count": 16,
   "metadata": {},
   "outputs": [
    {
     "name": "stdout",
     "output_type": "stream",
     "text": [
      "128\n",
      "9\n",
      "7352\n"
     ]
    }
   ],
   "source": [
    "timesteps = len(X_train[0])\n",
    "input_dim = len(X_train[0][0])\n",
    "n_classes = _count_classes(Y_train)\n",
    "\n",
    "print(timesteps)\n",
    "print(input_dim)\n",
    "print(len(X_train))"
   ]
  },
  {
   "cell_type": "code",
   "execution_count": 17,
   "metadata": {},
   "outputs": [],
   "source": [
    "# Initiliazing the sequential model\n",
    "def best_hyperparameters(units):\n",
    "\n",
    "    model = Sequential()\n",
    "    # Configuring the parameters\n",
    "    model.add(LSTM(units, input_shape=(timesteps, input_dim)))\n",
    "    # Adding a dropout layer\n",
    "    model.add(Dropout(0.5))\n",
    "    # Adding a dense output layer with sigmoid activation\n",
    "    model.add(Dense(n_classes, activation='sigmoid',kernel_initializer=\"glorot_normal\"))\n",
    "    model.compile(loss='categorical_crossentropy',\n",
    "              optimizer='rmsprop',\n",
    "              metrics=['accuracy'])\n",
    "    return model"
   ]
  },
  {
   "cell_type": "code",
   "execution_count": 18,
   "metadata": {},
   "outputs": [],
   "source": [
    "units = [16,32,64,128,256]"
   ]
  },
  {
   "cell_type": "code",
   "execution_count": 41,
   "metadata": {},
   "outputs": [],
   "source": [
    "from keras.wrappers.scikit_learn import KerasClassifier\n",
    "from sklearn.model_selection import GridSearchCV\n",
    "\n",
    "model = KerasClassifier(build_fn=best_hyperparameters, epochs=epochs, batch_size=batch_size, verbose=0)\n",
    "param_grid = dict(units=units)\n",
    "\n",
    "# if you are using CPU\n",
    "# grid = GridSearchCV(estimator=model, param_grid=param_grid, n_jobs=-1)\n",
    "# if you are using GPU dont use the n_jobs parameter\n",
    "\n",
    "grid = GridSearchCV(estimator=model, param_grid=param_grid,cv=3)\n",
    "grid_result = grid.fit(X_train, Y_train)"
   ]
  },
  {
   "cell_type": "code",
   "execution_count": 42,
   "metadata": {},
   "outputs": [
    {
     "name": "stdout",
     "output_type": "stream",
     "text": [
      "Best: 0.917437 using {'units': 256}\n"
     ]
    }
   ],
   "source": [
    "print(\"Best: %f using %s\" % (grid_result.best_score_, grid_result.best_params_))"
   ]
  },
  {
   "cell_type": "code",
   "execution_count": 19,
   "metadata": {},
   "outputs": [
    {
     "name": "stdout",
     "output_type": "stream",
     "text": [
      "WARNING:tensorflow:From C:\\Users\\aksha\\Anaconda3\\lib\\site-packages\\tensorflow\\python\\framework\\op_def_library.py:263: colocate_with (from tensorflow.python.framework.ops) is deprecated and will be removed in a future version.\n",
      "Instructions for updating:\n",
      "Colocations handled automatically by placer.\n",
      "WARNING:tensorflow:From C:\\Users\\aksha\\Anaconda3\\lib\\site-packages\\keras\\backend\\tensorflow_backend.py:3445: calling dropout (from tensorflow.python.ops.nn_ops) with keep_prob is deprecated and will be removed in a future version.\n",
      "Instructions for updating:\n",
      "Please use `rate` instead of `keep_prob`. Rate should be set to `rate = 1 - keep_prob`.\n",
      "_________________________________________________________________\n",
      "Layer (type)                 Output Shape              Param #   \n",
      "=================================================================\n",
      "lstm_1 (LSTM)                (None, 128, 256)          272384    \n",
      "_________________________________________________________________\n",
      "lstm_2 (LSTM)                (None, 256)               525312    \n",
      "_________________________________________________________________\n",
      "dropout_1 (Dropout)          (None, 256)               0         \n",
      "_________________________________________________________________\n",
      "dense_1 (Dense)              (None, 6)                 1542      \n",
      "=================================================================\n",
      "Total params: 799,238\n",
      "Trainable params: 799,238\n",
      "Non-trainable params: 0\n",
      "_________________________________________________________________\n",
      "None\n"
     ]
    }
   ],
   "source": [
    "model_2 = Sequential()\n",
    "    # Configuring the parameters\n",
    "model_2.add(LSTM(256,return_sequences=True, input_shape=(timesteps, input_dim)))\n",
    "\n",
    "model_2.add(LSTM(256, input_shape=(timesteps, input_dim)))\n",
    "    # Adding a dropout layer\n",
    "model_2.add(Dropout(0.3))\n",
    "    # Adding a dense output layer with sigmoid activation\n",
    "model_2.add(Dense(n_classes, activation='sigmoid',kernel_initializer=\"glorot_normal\"))\n",
    "model_2.compile(loss='binary_crossentropy', optimizer='rmsprop', metrics=['accuracy'])\n",
    "print(model_2.summary())"
   ]
  },
  {
   "cell_type": "code",
   "execution_count": 20,
   "metadata": {},
   "outputs": [
    {
     "name": "stdout",
     "output_type": "stream",
     "text": [
      "WARNING:tensorflow:From C:\\Users\\aksha\\Anaconda3\\lib\\site-packages\\tensorflow\\python\\ops\\math_ops.py:3066: to_int32 (from tensorflow.python.ops.math_ops) is deprecated and will be removed in a future version.\n",
      "Instructions for updating:\n",
      "Use tf.cast instead.\n",
      "Train on 7352 samples, validate on 2947 samples\n",
      "Epoch 1/30\n",
      "7352/7352 [==============================] - 221s 30ms/step - loss: 0.3005 - acc: 0.8714 - val_loss: 0.2540 - val_acc: 0.8778\n",
      "Epoch 2/30\n",
      "7352/7352 [==============================] - 203s 28ms/step - loss: 0.2308 - acc: 0.8902 - val_loss: 0.2227 - val_acc: 0.8949\n",
      "Epoch 3/30\n",
      "7352/7352 [==============================] - 195s 27ms/step - loss: 0.1488 - acc: 0.9391 - val_loss: 0.0953 - val_acc: 0.9628\n",
      "Epoch 4/30\n",
      "7352/7352 [==============================] - 227s 31ms/step - loss: 0.0749 - acc: 0.9732 - val_loss: 0.0924 - val_acc: 0.9641\n",
      "Epoch 5/30\n",
      "7352/7352 [==============================] - 218s 30ms/step - loss: 0.0753 - acc: 0.9737 - val_loss: 0.1349 - val_acc: 0.9571\n",
      "Epoch 6/30\n",
      "7352/7352 [==============================] - 224s 30ms/step - loss: 0.0565 - acc: 0.9798 - val_loss: 0.1462 - val_acc: 0.9498\n",
      "Epoch 7/30\n",
      "7352/7352 [==============================] - 224s 31ms/step - loss: 0.0584 - acc: 0.9793 - val_loss: 0.1401 - val_acc: 0.9661\n",
      "Epoch 8/30\n",
      "7352/7352 [==============================] - 231s 31ms/step - loss: 0.0577 - acc: 0.9799 - val_loss: 0.2969 - val_acc: 0.9307\n",
      "Epoch 9/30\n",
      "7352/7352 [==============================] - 233s 32ms/step - loss: 0.0513 - acc: 0.9793 - val_loss: 0.0993 - val_acc: 0.9641\n",
      "Epoch 10/30\n",
      "7352/7352 [==============================] - 233s 32ms/step - loss: 0.0600 - acc: 0.9787 - val_loss: 0.1225 - val_acc: 0.9676\n",
      "Epoch 11/30\n",
      "7352/7352 [==============================] - 220s 30ms/step - loss: 0.0474 - acc: 0.9819 - val_loss: 0.1113 - val_acc: 0.9696\n",
      "Epoch 12/30\n",
      "7352/7352 [==============================] - 233s 32ms/step - loss: 0.0512 - acc: 0.9811 - val_loss: 0.1188 - val_acc: 0.9680\n",
      "Epoch 13/30\n",
      "7352/7352 [==============================] - 247s 34ms/step - loss: 0.0462 - acc: 0.9822 - val_loss: 0.1347 - val_acc: 0.9674\n",
      "Epoch 14/30\n",
      "7352/7352 [==============================] - 219s 30ms/step - loss: 0.0468 - acc: 0.9829 - val_loss: 0.0880 - val_acc: 0.9742\n",
      "Epoch 15/30\n",
      "7352/7352 [==============================] - 217s 30ms/step - loss: 0.0452 - acc: 0.9838 - val_loss: 0.1234 - val_acc: 0.9690\n",
      "Epoch 16/30\n",
      "7352/7352 [==============================] - 226s 31ms/step - loss: 0.0471 - acc: 0.9825 - val_loss: 0.1264 - val_acc: 0.9660\n",
      "Epoch 17/30\n",
      "7352/7352 [==============================] - 222s 30ms/step - loss: 0.0496 - acc: 0.9819 - val_loss: 0.1594 - val_acc: 0.9654\n",
      "Epoch 18/30\n",
      "7352/7352 [==============================] - 219s 30ms/step - loss: 0.0455 - acc: 0.9826 - val_loss: 0.1035 - val_acc: 0.9744\n",
      "Epoch 19/30\n",
      "7352/7352 [==============================] - 220s 30ms/step - loss: 0.0479 - acc: 0.9823 - val_loss: 0.1636 - val_acc: 0.9695\n",
      "Epoch 20/30\n",
      "7352/7352 [==============================] - 221s 30ms/step - loss: 0.0500 - acc: 0.9828 - val_loss: 0.1239 - val_acc: 0.9669\n",
      "Epoch 21/30\n",
      "7352/7352 [==============================] - 221s 30ms/step - loss: 0.0490 - acc: 0.9829 - val_loss: 0.1150 - val_acc: 0.9732\n",
      "Epoch 22/30\n",
      "7352/7352 [==============================] - 230s 31ms/step - loss: 0.0464 - acc: 0.9838 - val_loss: 0.1096 - val_acc: 0.9724\n",
      "Epoch 23/30\n",
      "7352/7352 [==============================] - 223s 30ms/step - loss: 0.0418 - acc: 0.9836 - val_loss: 0.1316 - val_acc: 0.9704\n",
      "Epoch 24/30\n",
      "7352/7352 [==============================] - 227s 31ms/step - loss: 0.0418 - acc: 0.9846 - val_loss: 0.1104 - val_acc: 0.9692\n",
      "Epoch 25/30\n",
      "7352/7352 [==============================] - 228s 31ms/step - loss: 0.0408 - acc: 0.9843 - val_loss: 0.1178 - val_acc: 0.9725\n",
      "Epoch 26/30\n",
      "7352/7352 [==============================] - 249s 34ms/step - loss: 0.0451 - acc: 0.9829 - val_loss: 0.1814 - val_acc: 0.9594\n",
      "Epoch 27/30\n",
      "7352/7352 [==============================] - 233s 32ms/step - loss: 0.0452 - acc: 0.9828 - val_loss: 0.1146 - val_acc: 0.9736\n",
      "Epoch 28/30\n",
      "7352/7352 [==============================] - 228s 31ms/step - loss: 0.0434 - acc: 0.9839 - val_loss: 0.1728 - val_acc: 0.9697\n",
      "Epoch 29/30\n",
      "7352/7352 [==============================] - 228s 31ms/step - loss: 0.0441 - acc: 0.9834 - val_loss: 0.0922 - val_acc: 0.9740\n",
      "Epoch 30/30\n",
      "7352/7352 [==============================] - 229s 31ms/step - loss: 0.0482 - acc: 0.9821 - val_loss: 0.1251 - val_acc: 0.9684\n"
     ]
    }
   ],
   "source": [
    "# Training the model\n",
    "history=model_2.fit(X_train,\n",
    "          Y_train,\n",
    "          batch_size=batch_size,\n",
    "          validation_data=(X_test, Y_test),\n",
    "          epochs=epochs)"
   ]
  },
  {
   "cell_type": "code",
   "execution_count": 21,
   "metadata": {},
   "outputs": [
    {
     "name": "stdout",
     "output_type": "stream",
     "text": [
      "Pred                LAYING  SITTING  STANDING  WALKING  WALKING_DOWNSTAIRS  \\\n",
      "True                                                                         \n",
      "LAYING                 537        0         0        0                   0   \n",
      "SITTING                  0      420        70        0                   0   \n",
      "STANDING                 0      147       384        1                   0   \n",
      "WALKING                  0        6         0      454                  19   \n",
      "WALKING_DOWNSTAIRS       0        1         0        2                 405   \n",
      "WALKING_UPSTAIRS         0        2         0        2                   3   \n",
      "\n",
      "Pred                WALKING_UPSTAIRS  \n",
      "True                                  \n",
      "LAYING                             0  \n",
      "SITTING                            1  \n",
      "STANDING                           0  \n",
      "WALKING                           17  \n",
      "WALKING_DOWNSTAIRS                12  \n",
      "WALKING_UPSTAIRS                 464  \n"
     ]
    }
   ],
   "source": [
    "# Confusion Matrix\n",
    "print(confusion_matrix(Y_test, model_2.predict(X_test)))"
   ]
  },
  {
   "cell_type": "code",
   "execution_count": 24,
   "metadata": {},
   "outputs": [
    {
     "name": "stdout",
     "output_type": "stream",
     "text": [
      "Test score: 0.1250544917161217\n",
      "Test accuracy: 0.968385927467618\n"
     ]
    }
   ],
   "source": [
    "score = model_2.evaluate(X_test, Y_test, verbose=0)\n",
    "print('Test score:', score[0]) \n",
    "print('Test accuracy:', score[1])\n",
    "\n",
    "# list of epoch numbers\n",
    "x = list(range(1,epochs+1))\n",
    "vy = history.history['val_loss']\n",
    "ty = history.history['loss']\n"
   ]
  },
  {
   "cell_type": "code",
   "execution_count": 27,
   "metadata": {},
   "outputs": [],
   "source": [
    "import matplotlib.pyplot as plt\n",
    "def plot(x,ty,vy):\n",
    "    plt.xlabel(\"epochs\")\n",
    "    plt.ylabel(\"cross entropy error\")\n",
    "    plt.plot(x,vy,'b', label=\"Validation Loss\")\n",
    "    plt.plot(x,ty,'r', label=\"Train Loss\")\n",
    "    plt.legend()\n",
    "    plt.show()\n",
    "\n",
    "  "
   ]
  },
  {
   "cell_type": "code",
   "execution_count": 31,
   "metadata": {},
   "outputs": [
    {
     "data": {
      "image/png": "[encoded data removed]",
      "text/plain": [
       "<Figure size 432x288 with 1 Axes>"
      ]
     },
     "metadata": {
      "needs_background": "light"
     },
     "output_type": "display_data"
    }
   ],
   "source": [
    "plot(x,ty,vy)"
   ]
  },
  {
   "cell_type": "code",
   "execution_count": 32,
   "metadata": {},
   "outputs": [
    {
     "data": {
      "text/plain": [
       "[0.1250544917161217, 0.968385927467618]"
      ]
     },
     "execution_count": 32,
     "metadata": {},
     "output_type": "execute_result"
    }
   ],
   "source": [
    "score"
   ]
  },
  {
   "cell_type": "markdown",
   "metadata": {},
   "source": [
    "the optimal units were 256"
   ]
  }
 ],
 "metadata": {
  "kernelspec": {
   "display_name": "Python 3",
   "language": "python",
   "name": "python3"
  },
  "language_info": {
   "codemirror_mode": {
    "name": "ipython",
    "version": 3
   },
   "file_extension": ".py",
   "mimetype": "text/x-python",
   "name": "python",
   "nbconvert_exporter": "python",
   "pygments_lexer": "ipython3",
   "version": "3.7.1"
  }
 },
 "nbformat": 4,
 "nbformat_minor": 2
}
